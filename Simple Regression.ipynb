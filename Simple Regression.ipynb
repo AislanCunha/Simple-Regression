{
 "cells": [
  {
   "cell_type": "markdown",
   "id": "fdee02c1",
   "metadata": {},
   "source": [
    "# Simple Regression for independent samples, normal and homoscedastic"
   ]
  },
  {
   "cell_type": "markdown",
   "id": "be560de6",
   "metadata": {},
   "source": [
    "### First - Import the libraries"
   ]
  },
  {
   "cell_type": "code",
   "execution_count": 21,
   "id": "c39007c5",
   "metadata": {},
   "outputs": [],
   "source": [
    "import pandas as pd\n",
    "import numpy as np\n",
    "import scipy.stats as stats\n",
    "from scipy.stats import bartlett\n",
    "import seaborn as sns\n",
    "import matplotlib.pyplot as plt\n",
    "from   sklearn.linear_model import LinearRegression\n",
    "from   sklearn.metrics import r2_score\n",
    "import statsmodels.api as sm\n",
    "import os"
   ]
  },
  {
   "cell_type": "markdown",
   "id": "5ee139d1",
   "metadata": {},
   "source": [
    "### Second - import the data"
   ]
  },
  {
   "cell_type": "code",
   "execution_count": 153,
   "id": "c79c0f34",
   "metadata": {},
   "outputs": [
    {
     "name": "stdout",
     "output_type": "stream",
     "text": [
      "       A    B    C    D    E\n",
      "0    177  238  291  476  488\n",
      "1    160  247  303  438  459\n",
      "2    190  232  314  347  517\n",
      "3    165  220  391  367  435\n",
      "4     96  226  344  398  548\n",
      "..   ...  ...  ...  ...  ...\n",
      "195   94  277  285  339  444\n",
      "196  227  231  411  331  557\n",
      "197  149  197  414  460  504\n",
      "198  152  215  430  421  436\n",
      "199  194  221  355  360  510\n",
      "\n",
      "[200 rows x 5 columns]\n"
     ]
    }
   ],
   "source": [
    "df = pd.read_csv('data_Normal_homo.csv')\n",
    "print (df)"
   ]
  },
  {
   "cell_type": "markdown",
   "id": "aa67b0da",
   "metadata": {},
   "source": [
    "### Third - Test the Normality of samples"
   ]
  },
  {
   "cell_type": "code",
   "execution_count": 154,
   "id": "a911f151",
   "metadata": {},
   "outputs": [],
   "source": [
    "a = df['A']\n",
    "b = df['B']\n",
    "c = df['C']\n",
    "d = df['D']\n",
    "e = df['E']"
   ]
  },
  {
   "cell_type": "markdown",
   "id": "64d76494",
   "metadata": {},
   "source": [
    "### Column A"
   ]
  },
  {
   "cell_type": "code",
   "execution_count": 155,
   "id": "62b1bc4b",
   "metadata": {},
   "outputs": [
    {
     "name": "stdout",
     "output_type": "stream",
     "text": [
      "158.905\n",
      "42.931410121262026\n"
     ]
    }
   ],
   "source": [
    "average_a = np.mean(a)\n",
    "print(average_a)\n",
    "standard_deviation_a = np.std(a-1)\n",
    "print(standard_deviation_a)"
   ]
  },
  {
   "cell_type": "code",
   "execution_count": 156,
   "id": "b927d828",
   "metadata": {},
   "outputs": [
    {
     "name": "stdout",
     "output_type": "stream",
     "text": [
      "0.08334989263729675\n",
      "0.11732711556732545\n"
     ]
    }
   ],
   "source": [
    "test_value_a, p_value_a = stats.kstest(a, cdf='norm', args=(average_a, standard_deviation_a), N=len(a))\n",
    "print(test_value_a)\n",
    "print(p_value_a)"
   ]
  },
  {
   "cell_type": "code",
   "execution_count": 157,
   "id": "010edb25",
   "metadata": {},
   "outputs": [
    {
     "name": "stdout",
     "output_type": "stream",
     "text": [
      "The test presented with 95% confidence that the data behaved like a normal distribution.\n"
     ]
    }
   ],
   "source": [
    "if p_value_a > 0.05:\n",
    "    print(\"The test presented with 95% confidence that the data behaved like a normal distribution.\")\n",
    "else:\n",
    "    print(\"The test presented with 95% confidence that the data did not behave like a normal distribution.\")"
   ]
  },
  {
   "cell_type": "markdown",
   "id": "260d3d40",
   "metadata": {},
   "source": [
    "### Column B"
   ]
  },
  {
   "cell_type": "code",
   "execution_count": 158,
   "id": "ee56f699",
   "metadata": {},
   "outputs": [
    {
     "name": "stdout",
     "output_type": "stream",
     "text": [
      "252.38\n",
      "43.26032362338498\n"
     ]
    }
   ],
   "source": [
    "average_b = np.mean(b)\n",
    "print(average_b)\n",
    "standard_deviation_b = np.std(b-1)\n",
    "print(standard_deviation_b)"
   ]
  },
  {
   "cell_type": "code",
   "execution_count": 159,
   "id": "69f6a28f",
   "metadata": {},
   "outputs": [
    {
     "name": "stdout",
     "output_type": "stream",
     "text": [
      "0.07902472970402907\n",
      "0.15587170398301164\n"
     ]
    }
   ],
   "source": [
    "test_value_b, p_value_b = stats.kstest(b, cdf='norm', args=(average_b, standard_deviation_b), N=len(b))\n",
    "print(test_value_b)\n",
    "print(p_value_b)"
   ]
  },
  {
   "cell_type": "code",
   "execution_count": 160,
   "id": "0263628f",
   "metadata": {},
   "outputs": [
    {
     "name": "stdout",
     "output_type": "stream",
     "text": [
      "The test presented with 95% confidence that the data behaved like a normal distribution.\n"
     ]
    }
   ],
   "source": [
    "if p_value_b > 0.05:\n",
    "    print(\"The test presented with 95% confidence that the data behaved like a normal distribution.\")\n",
    "else:\n",
    "    print(\"The test presented with 95% confidence that the data did not behave like a normal distribution.\")"
   ]
  },
  {
   "cell_type": "markdown",
   "id": "c2d2c5c0",
   "metadata": {},
   "source": [
    "### Column C"
   ]
  },
  {
   "cell_type": "code",
   "execution_count": 161,
   "id": "5eb25a1f",
   "metadata": {},
   "outputs": [
    {
     "name": "stdout",
     "output_type": "stream",
     "text": [
      "351.995\n",
      "43.71458538062553\n"
     ]
    }
   ],
   "source": [
    "average_c = np.mean(c)\n",
    "print(average_c)\n",
    "standard_deviation_c = np.std(c-1)\n",
    "print(standard_deviation_c)"
   ]
  },
  {
   "cell_type": "code",
   "execution_count": 162,
   "id": "ae3a406b",
   "metadata": {},
   "outputs": [
    {
     "name": "stdout",
     "output_type": "stream",
     "text": [
      "0.08404504315390282\n",
      "0.1119313806983605\n"
     ]
    }
   ],
   "source": [
    "test_value_c, p_value_c = stats.kstest(c, cdf='norm', args=(average_c, standard_deviation_c), N=len(c))\n",
    "print(test_value_c)\n",
    "print(p_value_c)"
   ]
  },
  {
   "cell_type": "code",
   "execution_count": 163,
   "id": "cec60d8d",
   "metadata": {},
   "outputs": [
    {
     "name": "stdout",
     "output_type": "stream",
     "text": [
      "The test presented with 95% confidence that the data behaved like a normal distribution.\n"
     ]
    }
   ],
   "source": [
    "if p_value_c > 0.05:\n",
    "    print(\"The test presented with 95% confidence that the data behaved like a normal distribution.\")\n",
    "else:\n",
    "    print(\"The test presented with 95% confidence that the data did not behave like a normal distribution.\")"
   ]
  },
  {
   "cell_type": "markdown",
   "id": "4f790bdf",
   "metadata": {},
   "source": [
    "### Column D"
   ]
  },
  {
   "cell_type": "code",
   "execution_count": 164,
   "id": "41d93978",
   "metadata": {},
   "outputs": [
    {
     "name": "stdout",
     "output_type": "stream",
     "text": [
      "402.585\n",
      "43.83951157346532\n"
     ]
    }
   ],
   "source": [
    "average_d = np.mean(d)\n",
    "print(average_d)\n",
    "standard_deviation_d = np.std(d-1)\n",
    "print(standard_deviation_d)"
   ]
  },
  {
   "cell_type": "code",
   "execution_count": 165,
   "id": "b44906d7",
   "metadata": {},
   "outputs": [
    {
     "name": "stdout",
     "output_type": "stream",
     "text": [
      "0.08438179645507876\n",
      "0.10939198635063863\n"
     ]
    }
   ],
   "source": [
    "test_value_d, p_value_d = stats.kstest(d, cdf='norm', args=(average_d, standard_deviation_d), N=len(d))\n",
    "print(test_value_d)\n",
    "print(p_value_d)"
   ]
  },
  {
   "cell_type": "code",
   "execution_count": 166,
   "id": "a0da0bf7",
   "metadata": {},
   "outputs": [
    {
     "name": "stdout",
     "output_type": "stream",
     "text": [
      "The test presented with 95% confidence that the data behaved like a normal distribution.\n"
     ]
    }
   ],
   "source": [
    "if p_value_d > 0.05:\n",
    "    print(\"The test presented with 95% confidence that the data behaved like a normal distribution.\")\n",
    "else:\n",
    "    print(\"The test presented with 95% confidence that the data did not behave like a normal distribution.\")"
   ]
  },
  {
   "cell_type": "markdown",
   "id": "d0ef9a1c",
   "metadata": {},
   "source": [
    "### Column E"
   ]
  },
  {
   "cell_type": "code",
   "execution_count": 167,
   "id": "af3add21",
   "metadata": {},
   "outputs": [
    {
     "name": "stdout",
     "output_type": "stream",
     "text": [
      "494.89\n",
      "45.730273342721226\n"
     ]
    }
   ],
   "source": [
    "average_e = np.mean(e)\n",
    "print(average_e)\n",
    "standard_deviation_e = np.std(e-1)\n",
    "print(standard_deviation_e)"
   ]
  },
  {
   "cell_type": "code",
   "execution_count": 168,
   "id": "bf9e4523",
   "metadata": {},
   "outputs": [
    {
     "name": "stdout",
     "output_type": "stream",
     "text": [
      "0.08720806603206421\n",
      "0.08990084345256166\n"
     ]
    }
   ],
   "source": [
    "test_value_e, p_value_e = stats.kstest(e, cdf='norm', args=(average_e, standard_deviation_e), N=len(e))\n",
    "print(test_value_e)\n",
    "print(p_value_e)"
   ]
  },
  {
   "cell_type": "code",
   "execution_count": 169,
   "id": "dbd65184",
   "metadata": {},
   "outputs": [
    {
     "name": "stdout",
     "output_type": "stream",
     "text": [
      "The test presented with 95% confidence that the data behaved like a normal distribution.\n"
     ]
    }
   ],
   "source": [
    "if p_value_e > 0.05:\n",
    "    print(\"The test presented with 95% confidence that the data behaved like a normal distribution.\")\n",
    "else:\n",
    "    print(\"The test presented with 95% confidence that the data did not behave like a normal distribution.\")"
   ]
  },
  {
   "cell_type": "markdown",
   "id": "ce466fe3",
   "metadata": {},
   "source": [
    "### Fourth - Do the Levene test to Homoscedasticity"
   ]
  },
  {
   "cell_type": "code",
   "execution_count": 170,
   "id": "4917febc",
   "metadata": {},
   "outputs": [
    {
     "name": "stdout",
     "output_type": "stream",
     "text": [
      "The test value Wilcoxon to samples related = 0.23880235324308738\n",
      "The p_value Wilcoxon to samples related = 0.9164357490741767\n"
     ]
    }
   ],
   "source": [
    "res = stats.levene(a, b, c, d, e)\n",
    "print (\"The test value Wilcoxon to samples related = \" + str(res.statistic))\n",
    "print (\"The p_value Wilcoxon to samples related = \" + str(res.pvalue))"
   ]
  },
  {
   "cell_type": "code",
   "execution_count": 171,
   "id": "bdf583e5",
   "metadata": {},
   "outputs": [
    {
     "name": "stdout",
     "output_type": "stream",
     "text": [
      "the samples present a homogeneous distribution in their variances.\n"
     ]
    }
   ],
   "source": [
    "if res.pvalue > 0.05:\n",
    "    print(\"the samples present a homogeneous distribution in their variances.\")\n",
    "else:\n",
    "    print(\"the samples do not present a homogeneous distribution in their variances.\")"
   ]
  },
  {
   "cell_type": "markdown",
   "id": "ff31b8f1",
   "metadata": {},
   "source": [
    "### Fifth - Simple Regression "
   ]
  },
  {
   "cell_type": "code",
   "execution_count": 178,
   "id": "26b59e1f",
   "metadata": {},
   "outputs": [
    {
     "data": {
      "text/plain": [
       "LinearRegression()"
      ]
     },
     "execution_count": 178,
     "metadata": {},
     "output_type": "execute_result"
    }
   ],
   "source": [
    "X = df['A'].values.reshape(-1,1)\n",
    "y = df['B'].values.reshape(-1,1)\n",
    "\n",
    "reg = LinearRegression()\n",
    "reg.fit(X, y)"
   ]
  },
  {
   "cell_type": "markdown",
   "id": "32da27a1",
   "metadata": {},
   "source": [
    "### Conclusion"
   ]
  },
  {
   "cell_type": "code",
   "execution_count": 183,
   "id": "c8f483d2",
   "metadata": {},
   "outputs": [
    {
     "name": "stdout",
     "output_type": "stream",
     "text": [
      "The relationship between variables showed the following interaction: B = 264.93 + (-0.078986A)\n"
     ]
    }
   ],
   "source": [
    "print(\"The relationship between variables showed the following interaction: B = {:.5} + ({:.5}A)\".format(reg.intercept_[0], reg.coef_[0][0]))"
   ]
  },
  {
   "cell_type": "code",
   "execution_count": null,
   "id": "ff99d943",
   "metadata": {},
   "outputs": [],
   "source": []
  }
 ],
 "metadata": {
  "kernelspec": {
   "display_name": "Python 3 (ipykernel)",
   "language": "python",
   "name": "python3"
  },
  "language_info": {
   "codemirror_mode": {
    "name": "ipython",
    "version": 3
   },
   "file_extension": ".py",
   "mimetype": "text/x-python",
   "name": "python",
   "nbconvert_exporter": "python",
   "pygments_lexer": "ipython3",
   "version": "3.9.7"
  }
 },
 "nbformat": 4,
 "nbformat_minor": 5
}
